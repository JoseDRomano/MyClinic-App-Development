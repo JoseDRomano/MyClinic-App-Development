{
 "cells": [
  {
   "cell_type": "code",
   "execution_count": 9,
   "metadata": {},
   "outputs": [
    {
     "data": {
      "text/plain": [
       "'logo_bw.png'"
      ]
     },
     "execution_count": 9,
     "metadata": {},
     "output_type": "execute_result"
    }
   ],
   "source": [
    "from PIL import Image, ImageEnhance, ImageOps\n",
    "\n",
    "#Load the image logo.png\n",
    "image_path =  \"old_logo.png\"\n",
    "image = Image.open(image_path)\n",
    "\n",
    "# Convert to grayscale\n",
    "image = ImageOps.grayscale(image)\n",
    "\n",
    "# Increase the line thickness by enhancing the edges\n",
    "enhancer = ImageEnhance.Contrast(image)\n",
    "image = enhancer.enhance(2)  # Increase contrast to make lines thicker\n",
    "\n",
    "# Convert the grayscale image to a binary image (black and white)\n",
    "threshold = 128\n",
    "image = image.point(lambda p: p > threshold and 255)\n",
    "\n",
    "# Save the modified image to a file\n",
    "output_path =  \"logo_bw.png\"\n",
    "image.save(output_path)\n",
    "\n",
    "output_path\n"
   ]
  }
 ],
 "metadata": {
  "kernelspec": {
   "display_name": "mpdw",
   "language": "python",
   "name": "python3"
  },
  "language_info": {
   "codemirror_mode": {
    "name": "ipython",
    "version": 3
   },
   "file_extension": ".py",
   "mimetype": "text/x-python",
   "name": "python",
   "nbconvert_exporter": "python",
   "pygments_lexer": "ipython3",
   "version": "3.9.18"
  }
 },
 "nbformat": 4,
 "nbformat_minor": 2
}
